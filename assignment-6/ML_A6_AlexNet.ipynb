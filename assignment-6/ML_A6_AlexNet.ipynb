{
 "cells": [
  {
   "cell_type": "code",
   "execution_count": 2,
   "metadata": {},
   "outputs": [],
   "source": [
    "import idx2numpy\n",
    "from sklearn.svm import SVC\n",
    "from sklearn.metrics import accuracy_score\n",
    "from sklearn.preprocessing import StandardScaler\n",
    "import numpy as np\n",
    "import tensorflow as tf\n",
    "from tensorflow.keras import layers, models"
   ]
  },
  {
   "cell_type": "code",
   "execution_count": 3,
   "metadata": {},
   "outputs": [],
   "source": [
    "train_images = idx2numpy.convert_from_file('archive-2/train-images.idx3-ubyte')\n",
    "train_labels = idx2numpy.convert_from_file('archive-2/train-labels.idx1-ubyte')\n",
    "\n",
    "test_images = idx2numpy.convert_from_file('archive-2/t10k-images.idx3-ubyte')\n",
    "test_labels = idx2numpy.convert_from_file('archive-2/t10k-labels.idx1-ubyte')"
   ]
  },
  {
   "cell_type": "code",
   "execution_count": 4,
   "metadata": {},
   "outputs": [],
   "source": [
    "train_images = train_images.reshape((60000, 28, 28, 1)).astype('float32') / 255\n",
    "test_images = test_images.reshape((10000, 28, 28, 1)).astype('float32') / 255"
   ]
  },
  {
   "cell_type": "code",
   "execution_count": 5,
   "metadata": {},
   "outputs": [],
   "source": [
    "train_labels = tf.keras.utils.to_categorical(train_labels, 10)\n",
    "test_labels = tf.keras.utils.to_categorical(test_labels, 10)"
   ]
  },
  {
   "cell_type": "code",
   "execution_count": 6,
   "metadata": {},
   "outputs": [
    {
     "name": "stderr",
     "output_type": "stream",
     "text": [
      "/Library/Frameworks/Python.framework/Versions/3.12/lib/python3.12/site-packages/keras/src/layers/convolutional/base_conv.py:107: UserWarning: Do not pass an `input_shape`/`input_dim` argument to a layer. When using Sequential models, prefer using an `Input(shape)` object as the first layer in the model instead.\n",
      "  super().__init__(activity_regularizer=activity_regularizer, **kwargs)\n"
     ]
    }
   ],
   "source": [
    "alexnet_model = models.Sequential([\n",
    "    #conv layer 1 with max pooling and relu activation\n",
    "    layers.Conv2D(96, kernel_size=(3, 3), strides=1, activation='relu', input_shape=(28, 28, 1), padding='same'),\n",
    "    layers.MaxPooling2D(pool_size=(2, 2), strides=2),\n",
    "    #conv layer 2 with max pooling and relu activation\n",
    "    layers.Conv2D(256, kernel_size=(3, 3), strides=1, activation='relu', padding='same'),\n",
    "    layers.MaxPooling2D(pool_size=(2, 2), strides=2),\n",
    "    #conv layer 3 with relu\n",
    "    layers.Conv2D(384, kernel_size=(3, 3), strides=1, activation='relu', padding='same'),\n",
    "    #conv layer 4 with relu\n",
    "    layers.Conv2D(384, kernel_size=(3, 3), strides=1, activation='relu', padding='same'),\n",
    "    #conv layer 5 with relu and maxpooling\n",
    "    layers.Conv2D(256, kernel_size=(3, 3), strides=1, activation='relu', padding='same'),\n",
    "    layers.MaxPooling2D(pool_size=(2, 2), strides=2), \n",
    "    \n",
    "    layers.Flatten(),\n",
    "    \n",
    "    layers.Dense(4096, activation='relu'),\n",
    "    layers.Dropout(0.5),\n",
    "    layers.Dense(4096, activation='relu'),\n",
    "    layers.Dropout(0.5),\n",
    "    layers.Dense(10, activation='softmax')\n",
    "])"
   ]
  },
  {
   "cell_type": "code",
   "execution_count": 9,
   "metadata": {},
   "outputs": [],
   "source": [
    "alexnet_model.compile(optimizer='adam',\n",
    "                      loss='categorical_crossentropy',\n",
    "                      metrics=['accuracy'])"
   ]
  },
  {
   "cell_type": "code",
   "execution_count": 8,
   "metadata": {},
   "outputs": [
    {
     "name": "stdout",
     "output_type": "stream",
     "text": [
      "Epoch 1/3\n",
      "\u001b[1m1500/1500\u001b[0m \u001b[32m━━━━━━━━━━━━━━━━━━━━\u001b[0m\u001b[37m\u001b[0m \u001b[1m846s\u001b[0m 563ms/step - accuracy: 0.8434 - loss: 0.4605 - val_accuracy: 0.9792 - val_loss: 0.0740\n",
      "Epoch 2/3\n",
      "\u001b[1m1500/1500\u001b[0m \u001b[32m━━━━━━━━━━━━━━━━━━━━\u001b[0m\u001b[37m\u001b[0m \u001b[1m1552s\u001b[0m 1s/step - accuracy: 0.9791 - loss: 0.0796 - val_accuracy: 0.9833 - val_loss: 0.0614\n",
      "Epoch 3/3\n",
      "\u001b[1m1500/1500\u001b[0m \u001b[32m━━━━━━━━━━━━━━━━━━━━\u001b[0m\u001b[37m\u001b[0m \u001b[1m1194s\u001b[0m 796ms/step - accuracy: 0.9834 - loss: 0.0621 - val_accuracy: 0.9889 - val_loss: 0.0471\n"
     ]
    },
    {
     "data": {
      "text/plain": [
       "<keras.src.callbacks.history.History at 0x16c042d80>"
      ]
     },
     "execution_count": 8,
     "metadata": {},
     "output_type": "execute_result"
    }
   ],
   "source": [
    "alexnet_model.fit(train_images, train_labels, epochs=3, batch_size=32, validation_split=0.2)"
   ]
  },
  {
   "cell_type": "code",
   "execution_count": 10,
   "metadata": {},
   "outputs": [
    {
     "name": "stdout",
     "output_type": "stream",
     "text": [
      "\u001b[1m313/313\u001b[0m \u001b[32m━━━━━━━━━━━━━━━━━━━━\u001b[0m\u001b[37m\u001b[0m \u001b[1m35s\u001b[0m 109ms/step - accuracy: 0.9858 - loss: 0.0572\n",
      "AlexNet test accuracy: 0.9890999794006348\n"
     ]
    }
   ],
   "source": [
    "alexnet_test_loss, alexnet_test_accuracy = alexnet_model.evaluate(test_images, test_labels)\n",
    "print(f\"AlexNet test accuracy: {alexnet_test_accuracy}\")"
   ]
  },
  {
   "cell_type": "code",
   "execution_count": null,
   "metadata": {},
   "outputs": [],
   "source": []
  }
 ],
 "metadata": {
  "kernelspec": {
   "display_name": "Python 3",
   "language": "python",
   "name": "python3"
  },
  "language_info": {
   "codemirror_mode": {
    "name": "ipython",
    "version": 3
   },
   "file_extension": ".py",
   "mimetype": "text/x-python",
   "name": "python",
   "nbconvert_exporter": "python",
   "pygments_lexer": "ipython3",
   "version": "3.12.5"
  }
 },
 "nbformat": 4,
 "nbformat_minor": 2
}
